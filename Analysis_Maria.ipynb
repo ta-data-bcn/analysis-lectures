{
 "cells": [
  {
   "cell_type": "markdown",
   "metadata": {},
   "source": [
    "What do you think about the visualisations that the speaker used to present his insights? Which one is your favorite?\n",
    "1. What's your opinion about the speech? Did he get his point across?\n",
    "2. Was the presentation about a trascendental topic? Did it keep you glued to the screen?\n",
    "3. Is there anything you think the speaker missed, something he could improve or do yo have some to-do ideas for him?"
   ]
  },
  {
   "cell_type": "markdown",
   "metadata": {},
   "source": [
    "He catches the attention of the public, he is funny and \n",
    "tries to engage with the public.\n",
    "\n",
    "I liked the visuals and how the informal style on the visuals matches his informal style in presenting.\n",
    "\n",
    "He made his point, the presentation was great, he made the topic funny and I got glued to the screen."
   ]
  }
 ],
 "metadata": {
  "kernelspec": {
   "display_name": "Python 3",
   "language": "python",
   "name": "python3"
  },
  "language_info": {
   "codemirror_mode": {
    "name": "ipython",
    "version": 3
   },
   "file_extension": ".py",
   "mimetype": "text/x-python",
   "name": "python",
   "nbconvert_exporter": "python",
   "pygments_lexer": "ipython3",
   "version": "3.7.3"
  }
 },
 "nbformat": 4,
 "nbformat_minor": 2
}
