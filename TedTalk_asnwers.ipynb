{
 "cells": [
  {
   "cell_type": "markdown",
   "metadata": {},
   "source": [
    "After watching the video...\n",
    "\n",
    "- What do you think about the visualisations that the speaker used to present his insights? Which one is your favorite?\n",
    "\n",
    "To be completely honest, I did not like the visualizations. The slides were really crowded with hard to read words. The background made me try hard to find the words and the word colors also made it difficult for me to read them. So, to answer the last question, I do no have a favorite one.\n",
    "\n",
    "- What's your opinion about the speech? Did he get his point across?\n",
    "\n",
    "On the other hand, the speech was wonderful. Very detail oriented speech with a great combination of comedy,  entertaiment and statistics. He own the stage and people seem to really like the presentation, so do I. \n",
    "\n",
    "If you can use a comedy to engage with your audience, you should use it but without making it a stand up comedy show. \n",
    "\n",
    "- Was the presentation about a trascendental topic? Did it keep you glued to the screen?\n",
    "\n",
    "Since I am a tedtalk fan, the topic really engage me. Even thou is a short video, my eyes were on the screen and I was eiger to ear the entire presentation. Moreover, talking notes about this analysis could be transendental to my future presentations since I can learn what kind of topics my audience could like and the words I shoyl use.\n",
    "\n",
    "- Is there anything you think the speaker missed, something he could improve or do yo have some to-do ideas for him?\n",
    "\n",
    "Slide presentation should not be hard to read, so based on this belief, I would recommend him to improve his slides to a more readable presentation. You do not need to present much information but just hightlight the main ideas you want the audience to read, they should here more than read. Regarding the topic and his speech, I must say that he did a wonderful job. \n",
    "\n",
    "\n",
    "\n",
    "\n",
    "\n",
    "\n",
    "\n",
    "\n"
   ]
  }
 ],
 "metadata": {
  "kernelspec": {
   "display_name": "ironhack",
   "language": "python",
   "name": "ironhack"
  },
  "language_info": {
   "codemirror_mode": {
    "name": "ipython",
    "version": 3
   },
   "file_extension": ".py",
   "mimetype": "text/x-python",
   "name": "python",
   "nbconvert_exporter": "python",
   "pygments_lexer": "ipython3",
   "version": "3.7.3"
  }
 },
 "nbformat": 4,
 "nbformat_minor": 2
}
